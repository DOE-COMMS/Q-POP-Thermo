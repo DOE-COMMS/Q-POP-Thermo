{
 "cells": [
  {
   "cell_type": "code",
   "execution_count": 1,
   "metadata": {
    "ExecuteTime": {
     "end_time": "2021-08-18T14:40:15.847515Z",
     "start_time": "2021-08-18T14:40:15.825513Z"
    }
   },
   "outputs": [],
   "source": [
    "firstRun = False\n",
    "if firstRun:\n",
    "    !pip install -U numpy sympy matplotlib scipy --user"
   ]
  },
  {
   "cell_type": "code",
   "execution_count": 2,
   "metadata": {
    "ExecuteTime": {
     "end_time": "2021-08-18T14:40:24.970784Z",
     "start_time": "2021-08-18T14:40:22.639297Z"
    }
   },
   "outputs": [],
   "source": [
    "import numpy as np\n",
    "import sympy as sp\n",
    "import matplotlib.pyplot as plt\n",
    "import scipy.optimize as sciop\n",
    "from scipy.optimize import curve_fit\n",
    "import scipy.stats as statspack\n",
    "import sklearn.neighbors as skNN\n",
    "import pandas as pd\n",
    "from matplotlib.colors import ListedColormap, LinearSegmentedColormap"
   ]
  },
  {
   "cell_type": "markdown",
   "metadata": {},
   "source": [
    "## Phase Diagram Constructor"
   ]
  },
  {
   "cell_type": "markdown",
   "metadata": {},
   "source": [
    "### Create Necessary Functions and Train the Model"
   ]
  },
  {
   "cell_type": "markdown",
   "metadata": {},
   "source": [
    "#### Training the Model"
   ]
  },
  {
   "cell_type": "code",
   "execution_count": 3,
   "metadata": {
    "ExecuteTime": {
     "end_time": "2021-08-18T14:59:30.900683Z",
     "start_time": "2021-08-18T14:59:30.865093Z"
    }
   },
   "outputs": [
    {
     "data": {
      "text/plain": [
       "KNeighborsClassifier(n_neighbors=10)"
      ]
     },
     "execution_count": 3,
     "metadata": {},
     "output_type": "execute_result"
    }
   ],
   "source": [
    "def createArr(a1, a2, a3, ones, label):\n",
    "    return np.stack((a1.T, a2.T, a3.T, label * ones.T),axis=1)\n",
    "\n",
    "nPoints = 50\n",
    "\n",
    "rhomArr = 0.577 + 0.05 * (0.5 - np.random.rand(nPoints))\n",
    "ortArr = 0.707 + 0.05 * (0.5 - np.random.rand(nPoints))\n",
    "tetArr = 0.95 + 0.05 * (0.5 - np.random.rand(nPoints))\n",
    "onesArr = np.ones(nPoints)\n",
    "zeroArr = np.zeros(nPoints)\n",
    "\n",
    "domainListing = [(tetArr, zeroArr, zeroArr),                \n",
    "                (zeroArr, tetArr, zeroArr),                \n",
    "                (zeroArr, zeroArr, tetArr),                \n",
    "                (ortArr, ortArr, zeroArr),\n",
    "                (ortArr, zeroArr, ortArr),           \n",
    "                (zeroArr, ortArr, ortArr),\n",
    "                (rhomArr, rhomArr, rhomArr),\n",
    "                (zeroArr, zeroArr, zeroArr)]\n",
    "\n",
    "domainNames = ['Ta','Tb','Tc',\n",
    "              'Oab','Oac','Obc',\n",
    "              'R','P']\n",
    "\n",
    "domains = []\n",
    "\n",
    "for domain, label in zip(domainListing, range(len(domainListing))):\n",
    "    domains.append(createArr(*domain, onesArr, label+1))\n",
    "    \n",
    "domains = np.concatenate(domains)\n",
    "\n",
    "DomainColors = [[0.8867, 0.4335, 0.2734, 1.0],\n",
    "                [0.3936, 0.1574, 0.8858, 1.0],\n",
    "                [0.0, 0.0, 0.0, 1.0],\n",
    "                [1.0, 0.7108, 0.0, 1.0],\n",
    "                [0.3553, 0.9688, 0.3553, 1.0],\n",
    "                [0.7511, 0.3936, 0.7511, 1.0],\n",
    "                [1.0, 0.0, 0.0, 1.0],\n",
    "                [0.0, 0.0, 1.0, 1.0]]\n",
    "\n",
    "DomainDict = dict(zip(range(len(DomainColors)),DomainColors))\n",
    "\n",
    "neigh = skNN.KNeighborsClassifier(n_neighbors=10)\n",
    "neigh.fit(domains[:,:3], domains[:,3])"
   ]
  },
  {
   "cell_type": "markdown",
   "metadata": {},
   "source": [
    "### User Input"
   ]
  },
  {
   "cell_type": "code",
   "execution_count": 8,
   "metadata": {
    "ExecuteTime": {
     "end_time": "2021-08-18T15:13:08.454916Z",
     "start_time": "2021-08-18T15:13:08.446919Z"
    }
   },
   "outputs": [],
   "source": [
    "fileName='C:/Python/muThermo/OutputPictures.out'\n",
    "parameter1='# Temperature'\n",
    "parameter2='Hydrostatic Stress'"
   ]
  },
  {
   "cell_type": "markdown",
   "metadata": {},
   "source": [
    "### Monodomain Phase Diagram"
   ]
  },
  {
   "cell_type": "code",
   "execution_count": 9,
   "metadata": {
    "ExecuteTime": {
     "end_time": "2021-08-18T15:13:16.775668Z",
     "start_time": "2021-08-18T15:13:09.068170Z"
    }
   },
   "outputs": [
    {
     "data": {
      "text/plain": [
       "array([3., 6., 7., 8.])"
      ]
     },
     "execution_count": 9,
     "metadata": {},
     "output_type": "execute_result"
    }
   ],
   "source": [
    "monodomain = pd.read_csv(fileName, delimiter=',')\n",
    "\n",
    "\n",
    "tempDF = monodomain\n",
    "testArr = np.abs(tempDF[['P1','P2','P3']].values)\n",
    "domainRun = np.empty(len(testArr))\n",
    "domainColors = np.zeros(domainRun.shape + (4,))\n",
    "\n",
    "for i in range(len(testArr)):\n",
    "    if np.linalg.norm(testArr[i,:]) < 0.1e-1:\n",
    "        domainRun[i] = 8.0\n",
    "    else:\n",
    "        j = testArr[i,:] / np.linalg.norm(testArr[i,:])\n",
    "        domainRun[i] = neigh.predict([j])\n",
    "    domainColors[i] = DomainDict[domainRun[i]-1]\n",
    "np.unique(domainRun)"
   ]
  },
  {
   "cell_type": "code",
   "execution_count": 12,
   "metadata": {
    "ExecuteTime": {
     "end_time": "2021-08-18T15:13:36.692445Z",
     "start_time": "2021-08-18T15:13:36.393922Z"
    }
   },
   "outputs": [
    {
     "data": {
      "image/png": "[encoded data removed]",
      "text/plain": [
       "<Figure size 864x432 with 1 Axes>"
      ]
     },
     "metadata": {
      "needs_background": "light"
     },
     "output_type": "display_data"
    }
   ],
   "source": [
    "fig = plt.figure(figsize=[12,6])\n",
    "\n",
    "plt.scatter( tempDF[parameter2],tempDF[parameter1].values, \n",
    "           c=domainRun, s=60, marker='s', cmap='jet')\n",
    "# plt.colorbar()\n",
    "# plt.ylim(0, 400)\n",
    "# plt.xlim(min(tempDF[parameter1]), max(tempDF[parameter1]))\n",
    "plt.yticks(fontsize=16)\n",
    "plt.xticks(fontsize=16)\n",
    "plt.xlabel('{}'.format(parameter1), fontsize=36)\n",
    "plt.ylabel('{}'.format(parameter2), fontsize=36)\n",
    "plt.show()"
   ]
  },
  {
   "cell_type": "markdown",
   "metadata": {},
   "source": [
    "## Material Properties"
   ]
  },
  {
   "cell_type": "markdown",
   "metadata": {},
   "source": [
    "### User Input"
   ]
  },
  {
   "cell_type": "code",
   "execution_count": 77,
   "metadata": {
    "ExecuteTime": {
     "end_time": "2021-08-19T00:54:05.086082Z",
     "start_time": "2021-08-19T00:54:05.061811Z"
    }
   },
   "outputs": [],
   "source": [
    "fileName='C:/Python/muThermo/OutputPictures.out'\n",
    "potentialFile = 'C:/Python/muThermo/muPot.in'\n",
    "inputFile = 'C:/Python/muThermo/muInput.in'\n",
    "materialDensity = 6020 #In kg/m3\n",
    "heatCapacity = 500 #In Proper Units"
   ]
  },
  {
   "cell_type": "markdown",
   "metadata": {},
   "source": [
    "### Create Energy Function and Property Tensor Formulations"
   ]
  },
  {
   "cell_type": "code",
   "execution_count": 92,
   "metadata": {
    "ExecuteTime": {
     "end_time": "2021-08-19T01:08:10.045759Z",
     "start_time": "2021-08-19T01:08:08.594349Z"
    },
    "code_folding": [
     43,
     47,
     53,
     63,
     73,
     83
    ]
   },
   "outputs": [],
   "source": [
    "p1, p2, p3, s1, s2, s3, s4, s5, s6 = sp.symbols('p1, p2, p3, sigma_1, sigma_2, sigma_3, sigma_4, sigma_5, sigma_6')\n",
    "a1, a11, a111, a1111, a12, a112, a123, a1112, a1122, a1123 = sp.symbols('a1, a11, a111, a1111, a12, a112, a123, a1112, a1122, a1123')\n",
    "S11, S12, S44, Q11, Q12, Q44 = sp.symbols('S11, S12, S44, Q11, Q12, Q44')\n",
    "E1, E2, E3 = sp.symbols('E1 E2 E3')\n",
    "T, XF = sp.symbols('T XF')\n",
    "\n",
    "Gibbs = a1 * (p1**2 + p2**2 + p3**2) + a11 * (p1**4 + p2**4 + p3**4) + a111 * (p1**6 + p2**6 + p3**6)\n",
    "Gibbs += a12 * (p1**2 * p2**2 + p1**2 * p3**2 + p2**2 * p3**2) + a112 * (p1**4 * (p2**2 + p3**2) + p2**4 * (p1**2 + p3**2) + p3**4 * (p2**2 + p1**2))\n",
    "Gibbs += a123 * p1**2 * p2**2 * p3**2 + a1111 * (p1**8 + p2**8 + p3**8)\n",
    "Gibbs += a1112 * (p1**6 * (p2**2 + p3**2) + p2**6 * (p1**2 + p3**2) + p3**6 * (p2**2 + p1**2))\n",
    "Gibbs += a1122 * (p1**4 * p3**4 + p2**4 * p1**4 + p3**4 * p2**4)\n",
    "Gibbs += a1123 * (p1**4 * p2**2 * p3**2 + p2**4 * p1**2 * p3**2 + p3**4 * p2**2 * p1**2)\n",
    "Gibbs += sp.Rational('-1/2') * S11 * (s1**2 + s2**2 + s3**2) - S12 * (s1 * s2 + s2 * s3 + s1 * s3)\n",
    "Gibbs += sp.Rational('-1/2') * S44 * (s4**2 + s5**2 + s6**2)\n",
    "Gibbs += -Q11 * (s1 * p1**2 + s2 * p2**2 + s3 * p3**2) - Q44 * (s6 * p1 * p2 + s5 * p1 * p3 + s4 * p2 * p3)\n",
    "Gibbs += -Q12 * (s1 * (p2**2 + p3**2) + s2 * (p1**2 + p3**2) + s3 * (p1**2 + p2**2))\n",
    "Gibbs += -E1 * p1 - E2 * p2 - E3 * p3\n",
    "\n",
    "u11, u22, u12 = sp.symbols('u11 u22 u12')\n",
    "\n",
    "bcs = [\n",
    "    Gibbs.diff(s1) + u11,\n",
    "    Gibbs.diff(s2) + u22,\n",
    "    Gibbs.diff(s6) + u12,\n",
    "]\n",
    "\n",
    "solveVars = [s1, s2, s3, s4, s5, s6]\n",
    "solutions = sp.solve(bcs, solveVars)\n",
    "Helmholtz = Gibbs + u11 * s1 + u22 * s2 + u12 * s6\n",
    "pHelm = Helmholtz\n",
    "Helmholtz = Helmholtz.subs(solutions)\n",
    "\n",
    "inputPot = json.load(open(potentialFile, 'r'))\n",
    "potDict = {}\n",
    "potDict['a1'] = 0 ; potDict['a11'] = 0; potDict['a12'] = 0\n",
    "potDict['a111'] = 0; potDict['a112'] = 0; potDict['a123'] = 0\n",
    "potDict['a1111'] = 0; potDict['a1112'] = 0; potDict['a1122'] = 0; potDict['a1123'] = 0\n",
    "potDict['b1'] = 0; potDict['b11'] = 0; potDict['b12'] = 0\n",
    "potDict['S11'] = 0; potDict['S12'] = 0; potDict['S44'] = 0\n",
    "potDict['Q11'] = 0; potDict['Q12'] = 0; potDict['Q44'] = 0\n",
    "potDict['M11'] = 0; potDict['M12'] = 0; potDict['M44'] = 0\n",
    "potDict['l11'] = 0; potDict['l12'] = 0; potDict['l44'] = 0\n",
    "\n",
    "for key in inputPot.keys():\n",
    "    if key in potDict.keys():\n",
    "        potDict[key] = sp.sympify(inputPot[key])\n",
    "        \n",
    "for key in potDict.keys():\n",
    "    Gibbs = Gibbs.subs(key, potDict[key])\n",
    "    Helmholtz = Helmholtz.subs(key, potDict[key])\n",
    "\n",
    "# Create the Energy Density Item for Each System\n",
    "bulkEnergy = sp.lambdify([p1, p2, p3, T, XF, s1, s2, s3, s4, s5, s6, E1, E2, E3], Gibbs, 'numpy')\n",
    "filmEnergy = sp.lambdify([p1, p2, p3, T, XF, u11, u22, s3, s4, s5, u12, E1, E2, E3], Helmholtz, 'numpy')\n",
    "    \n",
    "# Create the Dielectric Tensor For the Bulk System First\n",
    "susceptabilityMatrix = []\n",
    "for sym1 in [p1,p2,p3]:\n",
    "    tempSusceptability = []\n",
    "    for sym2 in [p1,p2,p3]:\n",
    "        tempSusceptability.append(Gibbs.diff(sym1,sym2))\n",
    "    susceptabilityMatrix.append(tempSusceptability)\n",
    "    \n",
    "bulkDielectricTensor = sp.lambdify([p1, p2, p3, T, XF, s1, s2, s3, s4, s5, s6, E1, E2, E3], sp.Matrix(susceptabilityMatrix), 'numpy')\n",
    "\n",
    "# Create the Dielectric Tensor for the Film System Next\n",
    "susceptabilityMatrix = []\n",
    "for sym1 in [p1,p2,p3]:\n",
    "    tempSusceptability = []\n",
    "    for sym2 in [p1,p2,p3]:\n",
    "        tempSusceptability.append(Helmholtz.diff(sym1,sym2))\n",
    "    susceptabilityMatrix.append(tempSusceptability)\n",
    "    \n",
    "filmDielectricTensor = sp.lambdify([p1, p2, p3, T, XF, u11, u22, s3, s4, s5, u12, E1,E2,E3], sp.Matrix(susceptabilityMatrix), 'numpy')\n",
    "\n",
    "# Create the Strain Tensor for the Bulk System First\n",
    "etaDerives = []\n",
    "for p in [p1,p2,p3]:\n",
    "    tempEta = []\n",
    "    for s in [s1,s2,s3,s4,s5,s6]:\n",
    "        tempEta.append(-Gibbs.diff(s,p))\n",
    "    etaDerives.append(tempEta)\n",
    "\n",
    "bulkStrainTensor = sp.lambdify([p1, p2, p3, T, XF, s1, s2, s3, s4, s5, s6, E1, E2, E3], sp.Matrix(etaDerives), 'numpy')\n",
    "\n",
    "# Create the Strain Tensor for the Film System Next\n",
    "etaDerives = []\n",
    "for p in [p1,p2,p3]:\n",
    "    tempEta = []\n",
    "    for s in [s1,s2,s3,s4,s5,s6]:\n",
    "        tempEta.append(-pHelm.diff(s,p))\n",
    "    etaDerives.append(tempEta)\n",
    "    \n",
    "etaDerives = sp.Matrix(etaDerives).subs(potDict)\n",
    "filmStrainTensor = sp.lambdify([p1,p2,p3,T,XF,u11,u22,s3,s4,s5,u12,E1,E2,E3], etaDerives, 'numpy')\n",
    "\n",
    "#Create caloric term for both Bulk and Film Systems\n",
    "bulkCaloric = sp.lambdify([p1,p2,p3,T,XF,s1,s2,s3,s4,s5,s6,E1,E2,E3], -Gibbs.diff(T), 'numpy')\n",
    "filmCaloric = sp.lambdify([p1,p2,p3,T,XF,u11,u22,s3,s4,s5,u12,E1,E2,E3],-Helmholtz.diff(T), 'numpy')"
   ]
  },
  {
   "cell_type": "markdown",
   "metadata": {
    "ExecuteTime": {
     "end_time": "2021-08-18T16:04:15.389719Z",
     "start_time": "2021-08-18T16:04:15.213192Z"
    }
   },
   "source": [
    "### Helper Functions"
   ]
  },
  {
   "cell_type": "code",
   "execution_count": 117,
   "metadata": {
    "ExecuteTime": {
     "end_time": "2021-08-19T01:19:33.900335Z",
     "start_time": "2021-08-19T01:19:33.885342Z"
    },
    "code_folding": [
     0,
     36,
     45
    ]
   },
   "outputs": [],
   "source": [
    "def createVariableDict(inputFile):\n",
    "    inputDict = {}\n",
    "    inputDict['System'] = 'Bulk'\n",
    "    inputDict['Temperature'] = 300\n",
    "    inputDict['Stress'] = [0,0,0,0,0,0]\n",
    "    inputDict['Strain'] = [0,0,0,0,0,0]\n",
    "    inputDict['Misfit'] = [0,0,0,0,0,0]\n",
    "    inputDict['XF'] = 0.0\n",
    "    inputDict['ElectricField'] = [0,0,0]\n",
    "    inputDict['LElastic'] = 'True'\n",
    "    inputDict['LElectric'] = 'False'\n",
    "    inputDict['LPolar'] = 'True'\n",
    "    inputDict['LOxytilt'] = 'False'\n",
    "    inputDict['Property'] = []\n",
    "    inputDict['SweepList'] = [[]]\n",
    "    inputDict['SweepParameters'] = [[]]\n",
    "    \n",
    "    newDict = json.load(open(inputFile,'r'))\n",
    "    \n",
    "    for key in newDict.keys():\n",
    "        if key in inputDict.keys():\n",
    "            inputDict[key] = newDict[key]\n",
    "\n",
    "    variableDict = {}\n",
    "    \n",
    "    variableDict['Temperature'] = inputDict['Temperature']\n",
    "    variableDict['XF'] = inputDict['XF']\n",
    "\n",
    "    if inputDict['System'].lower() == 'film':\n",
    "        if inputDict['LElastic'].lower() == 'true':\n",
    "            variableDict['MisfitXX'] = inputDict['Misfit'][0]\n",
    "            variableDict['MisfitYY'] = inputDict['Misfit'][1]\n",
    "            variableDict['StressZZ'] = inputDict['Misfit'][2]\n",
    "            variableDict['StressYZ'] = inputDict['Misfit'][3]\n",
    "            variableDict['StressXZ'] = inputDict['Misfit'][4]\n",
    "            variableDict['MisfitXY'] = inputDict['Misfit'][5]\n",
    "    else:\n",
    "        if inputDict['LElastic'].lower() == 'true':\n",
    "            variableDict['StressXX'] = inputDict['Stress'][0]\n",
    "            variableDict['StressYY'] = inputDict['Stress'][1]\n",
    "            variableDict['StressZZ'] = inputDict['Stress'][2]\n",
    "            variableDict['StressYZ'] = inputDict['Stress'][3]\n",
    "            variableDict['StressXZ'] = inputDict['Stress'][4]\n",
    "            variableDict['StressXY'] = inputDict['Stress'][5]\n",
    "\n",
    "    if inputDict['LElectric'].lower() == 'true':\n",
    "        variableDict['ElectricFieldx'] = inputDict['ElectricField'][0]\n",
    "        variableDict['ElectricFieldy'] = inputDict['ElectricField'][1]\n",
    "        variableDict['ElectricFieldz'] = inputDict['ElectricField'][2]\n",
    "\n",
    "    return variableDict\n",
    "    \n",
    "def updateVariableDict(variableDict, value, param):\n",
    "    \n",
    "    if param.lower() == 'isotropic misfit':\n",
    "        variableDict['MisfitXX'] = value\n",
    "        variableDict['MisfitYY'] = value\n",
    "    elif param.lower() == 'hydrostatic stress':\n",
    "        variableDict['StressXX'] = value\n",
    "        variableDict['StressYY'] = value\n",
    "        variableDict['StressZZ'] = value\n",
    "    elif param.lower() == 'electricfield':\n",
    "        variableDict['ElectricFieldx'] = value\n",
    "        variableDict['ElectricFieldy'] = value\n",
    "        variableDict['ElectricFieldz'] = value\n",
    "    else:\n",
    "        variableDict[param] = value\n",
    "\n",
    "    return variableDict"
   ]
  },
  {
   "cell_type": "markdown",
   "metadata": {},
   "source": [
    "### Energy Density"
   ]
  },
  {
   "cell_type": "code",
   "execution_count": 133,
   "metadata": {
    "ExecuteTime": {
     "end_time": "2021-08-19T01:28:13.173938Z",
     "start_time": "2021-08-19T01:28:10.428662Z"
    },
    "code_folding": [
     11,
     19
    ]
   },
   "outputs": [
    {
     "name": "stdout",
     "output_type": "stream",
     "text": [
      "Free Energy has been calculated for your system. It is located in column \"Energy\" in the fileOutput dataframe.\n"
     ]
    }
   ],
   "source": [
    "fileInput = json.load(open(inputFile,'r'))\n",
    "fileOutput = pd.read_csv(fileName)\n",
    "fileOutput.columns = fileOutput.columns.str.replace(\"_\", \"\")\n",
    "fileOutput.columns = fileOutput.columns.str.replace(\" \", \"\")\n",
    "polarData = fileOutput[['P1','P2','P3']].values\n",
    "energyDensity = np.zeros(len(polarData))\n",
    "variableDictionary = createVariableDict(inputFile)\n",
    "\n",
    "#Get Length of Parameter Sweep\n",
    "parameterList = fileInput['SweepParameters']\n",
    "\n",
    "if len(parameterList)==1:\n",
    "    for i in range(len(polarData)):\n",
    "        variableDictionary = updateVariableDict(variableDictionary, fileOutput.loc[i,parameterList[0]], parameterList[0])\n",
    "        if fileInput['System'].lower == 'bulk':\n",
    "            energyDensity[i] = bulkEnergy(*polarData[i,:], variableDictionary.values)\n",
    "        if str(fileInput['System'].lower()) == str('film'):\n",
    "            energyDensity[i] = filmEnergy(*polarData[i,:], *list(variableDictionary.values()))\n",
    "            \n",
    "if len(parameterList)==2:\n",
    "    for i in range(len(polarData)):\n",
    "        variableDictionary = updateVariableDict(variableDictionary, fileOutput.iloc[i,0], parameterList[0])\n",
    "        variableDictionary = updateVariableDict(variableDictionary, fileOutput.iloc[i,1], parameterList[1])\n",
    "        if str(fileInput['System'].lower()) == str('bulk'):\n",
    "            energyDensity[i] = bulkEnergy(*polarData[i,:], *list(variableDictionary.values()))\n",
    "        if str(fileInput['System'].lower()) == str('film'):\n",
    "            energyDensity[i] = filmEnergy(*polarData[i,:], *list(variableDictionary.values()))\n",
    "            \n",
    "if len(parameterList)==3:\n",
    "    for i in range(len(polarData)):\n",
    "        variableDictionary = updateVariableDict(variableDictionary, fileOutput.iloc[i,0], parameterList[0])\n",
    "        variableDictionary = updateVariableDict(variableDictionary, fileOutput.iloc[i,1], parameterList[1])\n",
    "        variableDictionary = updateVariableDict(variableDictionary, fileOutput.iloc[i,2], parameterList[2])\n",
    "        if str(fileInput['System'].lower()) == str('bulk'):\n",
    "            energyDensity[i] = bulkEnergy(*polarData[i,:], *list(variableDictionary.values()))\n",
    "        if str(fileInput['System'].lower()) == str('film'):\n",
    "            energyDensity[i] = filmEnergy(*polarData[i,:], *list(variableDictionary.values()))\n",
    "\n",
    "fileOutput['Energy'] = energyDensity\n",
    "\n",
    "print('Free Energy has been calculated for your system. It is located in column \"Energy\" in the fileOutput dataframe.')\n"
   ]
  },
  {
   "cell_type": "markdown",
   "metadata": {},
   "source": [
    "### Dielectric Tensor"
   ]
  },
  {
   "cell_type": "code",
   "execution_count": 157,
   "metadata": {
    "ExecuteTime": {
     "end_time": "2021-08-19T01:51:05.237004Z",
     "start_time": "2021-08-19T01:50:58.009203Z"
    },
    "code_folding": [
     11,
     22,
     36
    ]
   },
   "outputs": [
    {
     "data": {
      "text/html": [
       "<div>\n",
       "<style scoped>\n",
       "    .dataframe tbody tr th:only-of-type {\n",
       "        vertical-align: middle;\n",
       "    }\n",
       "\n",
       "    .dataframe tbody tr th {\n",
       "        vertical-align: top;\n",
       "    }\n",
       "\n",
       "    .dataframe thead th {\n",
       "        text-align: right;\n",
       "    }\n",
       "</style>\n",
       "<table border=\"1\" class=\"dataframe\">\n",
       "  <thead>\n",
       "    <tr style=\"text-align: right;\">\n",
       "      <th></th>\n",
       "      <th>#Temperature</th>\n",
       "      <th>HydrostaticStress</th>\n",
       "      <th>P1</th>\n",
       "      <th>P2</th>\n",
       "      <th>P3</th>\n",
       "      <th>k11</th>\n",
       "      <th>k22</th>\n",
       "      <th>k33</th>\n",
       "      <th>k23</th>\n",
       "      <th>k13</th>\n",
       "      <th>...</th>\n",
       "      <th>d33</th>\n",
       "      <th>d31</th>\n",
       "      <th>d15</th>\n",
       "      <th>d24</th>\n",
       "      <th>K11</th>\n",
       "      <th>K22</th>\n",
       "      <th>K33</th>\n",
       "      <th>K12</th>\n",
       "      <th>K13</th>\n",
       "      <th>K23</th>\n",
       "    </tr>\n",
       "  </thead>\n",
       "  <tbody>\n",
       "    <tr>\n",
       "      <th>28</th>\n",
       "      <td>50.0</td>\n",
       "      <td>-1.000000e+09</td>\n",
       "      <td>0.233156</td>\n",
       "      <td>0.233156</td>\n",
       "      <td>2.331557e-01</td>\n",
       "      <td>398.828512</td>\n",
       "      <td>398.828512</td>\n",
       "      <td>398.828512</td>\n",
       "      <td>121.873530</td>\n",
       "      <td>121.873530</td>\n",
       "      <td>...</td>\n",
       "      <td>1.357014e+02</td>\n",
       "      <td>-4.145634e+01</td>\n",
       "      <td>3.103882e+01</td>\n",
       "      <td>3.103882e+01</td>\n",
       "      <td>398.828512</td>\n",
       "      <td>398.828512</td>\n",
       "      <td>398.828512</td>\n",
       "      <td>121.873530</td>\n",
       "      <td>121.873530</td>\n",
       "      <td>121.873530</td>\n",
       "    </tr>\n",
       "    <tr>\n",
       "      <th>85</th>\n",
       "      <td>51.0</td>\n",
       "      <td>-1.000000e+09</td>\n",
       "      <td>0.233133</td>\n",
       "      <td>0.233133</td>\n",
       "      <td>2.331327e-01</td>\n",
       "      <td>399.181924</td>\n",
       "      <td>399.181924</td>\n",
       "      <td>399.181924</td>\n",
       "      <td>122.018308</td>\n",
       "      <td>122.018308</td>\n",
       "      <td>...</td>\n",
       "      <td>1.357947e+02</td>\n",
       "      <td>-4.147905e+01</td>\n",
       "      <td>3.106557e+01</td>\n",
       "      <td>3.106557e+01</td>\n",
       "      <td>399.181924</td>\n",
       "      <td>399.181924</td>\n",
       "      <td>399.181924</td>\n",
       "      <td>122.018308</td>\n",
       "      <td>122.018308</td>\n",
       "      <td>122.018308</td>\n",
       "    </tr>\n",
       "    <tr>\n",
       "      <th>142</th>\n",
       "      <td>52.0</td>\n",
       "      <td>-1.000000e+09</td>\n",
       "      <td>0.233108</td>\n",
       "      <td>0.233108</td>\n",
       "      <td>2.331077e-01</td>\n",
       "      <td>399.567050</td>\n",
       "      <td>399.567050</td>\n",
       "      <td>399.567050</td>\n",
       "      <td>122.176109</td>\n",
       "      <td>122.176109</td>\n",
       "      <td>...</td>\n",
       "      <td>1.358963e+02</td>\n",
       "      <td>-4.150378e+01</td>\n",
       "      <td>3.109472e+01</td>\n",
       "      <td>3.109472e+01</td>\n",
       "      <td>399.567050</td>\n",
       "      <td>399.567050</td>\n",
       "      <td>399.567050</td>\n",
       "      <td>122.176109</td>\n",
       "      <td>122.176109</td>\n",
       "      <td>122.176109</td>\n",
       "    </tr>\n",
       "    <tr>\n",
       "      <th>199</th>\n",
       "      <td>53.0</td>\n",
       "      <td>-1.000000e+09</td>\n",
       "      <td>0.233081</td>\n",
       "      <td>0.233081</td>\n",
       "      <td>2.330806e-01</td>\n",
       "      <td>399.985168</td>\n",
       "      <td>399.985168</td>\n",
       "      <td>399.985168</td>\n",
       "      <td>122.347463</td>\n",
       "      <td>122.347463</td>\n",
       "      <td>...</td>\n",
       "      <td>1.360066e+02</td>\n",
       "      <td>-4.153063e+01</td>\n",
       "      <td>3.112636e+01</td>\n",
       "      <td>3.112636e+01</td>\n",
       "      <td>399.985168</td>\n",
       "      <td>399.985168</td>\n",
       "      <td>399.985168</td>\n",
       "      <td>122.347463</td>\n",
       "      <td>122.347463</td>\n",
       "      <td>122.347463</td>\n",
       "    </tr>\n",
       "    <tr>\n",
       "      <th>256</th>\n",
       "      <td>54.0</td>\n",
       "      <td>-1.000000e+09</td>\n",
       "      <td>0.233051</td>\n",
       "      <td>0.233051</td>\n",
       "      <td>2.330513e-01</td>\n",
       "      <td>400.437514</td>\n",
       "      <td>400.437514</td>\n",
       "      <td>400.437514</td>\n",
       "      <td>122.532888</td>\n",
       "      <td>122.532888</td>\n",
       "      <td>...</td>\n",
       "      <td>1.361259e+02</td>\n",
       "      <td>-4.155966e+01</td>\n",
       "      <td>3.116060e+01</td>\n",
       "      <td>3.116060e+01</td>\n",
       "      <td>400.437514</td>\n",
       "      <td>400.437514</td>\n",
       "      <td>400.437514</td>\n",
       "      <td>122.532888</td>\n",
       "      <td>122.532888</td>\n",
       "      <td>122.532888</td>\n",
       "    </tr>\n",
       "    <tr>\n",
       "      <th>...</th>\n",
       "      <td>...</td>\n",
       "      <td>...</td>\n",
       "      <td>...</td>\n",
       "      <td>...</td>\n",
       "      <td>...</td>\n",
       "      <td>...</td>\n",
       "      <td>...</td>\n",
       "      <td>...</td>\n",
       "      <td>...</td>\n",
       "      <td>...</td>\n",
       "      <td>...</td>\n",
       "      <td>...</td>\n",
       "      <td>...</td>\n",
       "      <td>...</td>\n",
       "      <td>...</td>\n",
       "      <td>...</td>\n",
       "      <td>...</td>\n",
       "      <td>...</td>\n",
       "      <td>...</td>\n",
       "      <td>...</td>\n",
       "      <td>...</td>\n",
       "    </tr>\n",
       "    <tr>\n",
       "      <th>42550</th>\n",
       "      <td>796.0</td>\n",
       "      <td>-1.000000e+09</td>\n",
       "      <td>0.000000</td>\n",
       "      <td>0.000000</td>\n",
       "      <td>0.000000e+00</td>\n",
       "      <td>260.725600</td>\n",
       "      <td>260.725600</td>\n",
       "      <td>260.725600</td>\n",
       "      <td>1.000000</td>\n",
       "      <td>1.000000</td>\n",
       "      <td>...</td>\n",
       "      <td>0.000000e+00</td>\n",
       "      <td>0.000000e+00</td>\n",
       "      <td>0.000000e+00</td>\n",
       "      <td>0.000000e+00</td>\n",
       "      <td>260.725600</td>\n",
       "      <td>260.725600</td>\n",
       "      <td>260.725600</td>\n",
       "      <td>1.000000</td>\n",
       "      <td>1.000000</td>\n",
       "      <td>1.000000</td>\n",
       "    </tr>\n",
       "    <tr>\n",
       "      <th>42607</th>\n",
       "      <td>797.0</td>\n",
       "      <td>-1.000000e+09</td>\n",
       "      <td>0.000000</td>\n",
       "      <td>0.000000</td>\n",
       "      <td>0.000000e+00</td>\n",
       "      <td>260.137900</td>\n",
       "      <td>260.137900</td>\n",
       "      <td>260.137900</td>\n",
       "      <td>1.000000</td>\n",
       "      <td>1.000000</td>\n",
       "      <td>...</td>\n",
       "      <td>0.000000e+00</td>\n",
       "      <td>0.000000e+00</td>\n",
       "      <td>0.000000e+00</td>\n",
       "      <td>0.000000e+00</td>\n",
       "      <td>260.137900</td>\n",
       "      <td>260.137900</td>\n",
       "      <td>260.137900</td>\n",
       "      <td>1.000000</td>\n",
       "      <td>1.000000</td>\n",
       "      <td>1.000000</td>\n",
       "    </tr>\n",
       "    <tr>\n",
       "      <th>42664</th>\n",
       "      <td>798.0</td>\n",
       "      <td>-1.000000e+09</td>\n",
       "      <td>0.000000</td>\n",
       "      <td>0.000000</td>\n",
       "      <td>0.000000e+00</td>\n",
       "      <td>259.552835</td>\n",
       "      <td>259.552835</td>\n",
       "      <td>259.552835</td>\n",
       "      <td>1.000000</td>\n",
       "      <td>1.000000</td>\n",
       "      <td>...</td>\n",
       "      <td>0.000000e+00</td>\n",
       "      <td>0.000000e+00</td>\n",
       "      <td>0.000000e+00</td>\n",
       "      <td>0.000000e+00</td>\n",
       "      <td>259.552835</td>\n",
       "      <td>259.552835</td>\n",
       "      <td>259.552835</td>\n",
       "      <td>1.000000</td>\n",
       "      <td>1.000000</td>\n",
       "      <td>1.000000</td>\n",
       "    </tr>\n",
       "    <tr>\n",
       "      <th>42721</th>\n",
       "      <td>799.0</td>\n",
       "      <td>-1.000000e+09</td>\n",
       "      <td>0.000000</td>\n",
       "      <td>0.000000</td>\n",
       "      <td>0.000000e+00</td>\n",
       "      <td>258.970386</td>\n",
       "      <td>258.970386</td>\n",
       "      <td>258.970386</td>\n",
       "      <td>1.000000</td>\n",
       "      <td>1.000000</td>\n",
       "      <td>...</td>\n",
       "      <td>0.000000e+00</td>\n",
       "      <td>0.000000e+00</td>\n",
       "      <td>0.000000e+00</td>\n",
       "      <td>0.000000e+00</td>\n",
       "      <td>258.970386</td>\n",
       "      <td>258.970386</td>\n",
       "      <td>258.970386</td>\n",
       "      <td>1.000000</td>\n",
       "      <td>1.000000</td>\n",
       "      <td>1.000000</td>\n",
       "    </tr>\n",
       "    <tr>\n",
       "      <th>42778</th>\n",
       "      <td>800.0</td>\n",
       "      <td>-1.000000e+09</td>\n",
       "      <td>0.000000</td>\n",
       "      <td>0.000000</td>\n",
       "      <td>-8.271806e-25</td>\n",
       "      <td>258.390536</td>\n",
       "      <td>258.390536</td>\n",
       "      <td>258.390536</td>\n",
       "      <td>1.000000</td>\n",
       "      <td>1.000000</td>\n",
       "      <td>...</td>\n",
       "      <td>-4.145328e-22</td>\n",
       "      <td>1.695816e-22</td>\n",
       "      <td>-5.464296e-23</td>\n",
       "      <td>-5.464296e-23</td>\n",
       "      <td>258.390536</td>\n",
       "      <td>258.390536</td>\n",
       "      <td>258.390536</td>\n",
       "      <td>1.000000</td>\n",
       "      <td>1.000000</td>\n",
       "      <td>1.000000</td>\n",
       "    </tr>\n",
       "  </tbody>\n",
       "</table>\n",
       "<p>751 rows × 25 columns</p>\n",
       "</div>"
      ],
      "text/plain": [
       "       #Temperature  HydrostaticStress        P1        P2            P3  \\\n",
       "28             50.0      -1.000000e+09  0.233156  0.233156  2.331557e-01   \n",
       "85             51.0      -1.000000e+09  0.233133  0.233133  2.331327e-01   \n",
       "142            52.0      -1.000000e+09  0.233108  0.233108  2.331077e-01   \n",
       "199            53.0      -1.000000e+09  0.233081  0.233081  2.330806e-01   \n",
       "256            54.0      -1.000000e+09  0.233051  0.233051  2.330513e-01   \n",
       "...             ...                ...       ...       ...           ...   \n",
       "42550         796.0      -1.000000e+09  0.000000  0.000000  0.000000e+00   \n",
       "42607         797.0      -1.000000e+09  0.000000  0.000000  0.000000e+00   \n",
       "42664         798.0      -1.000000e+09  0.000000  0.000000  0.000000e+00   \n",
       "42721         799.0      -1.000000e+09  0.000000  0.000000  0.000000e+00   \n",
       "42778         800.0      -1.000000e+09  0.000000  0.000000 -8.271806e-25   \n",
       "\n",
       "              k11         k22         k33         k23         k13  ...  \\\n",
       "28     398.828512  398.828512  398.828512  121.873530  121.873530  ...   \n",
       "85     399.181924  399.181924  399.181924  122.018308  122.018308  ...   \n",
       "142    399.567050  399.567050  399.567050  122.176109  122.176109  ...   \n",
       "199    399.985168  399.985168  399.985168  122.347463  122.347463  ...   \n",
       "256    400.437514  400.437514  400.437514  122.532888  122.532888  ...   \n",
       "...           ...         ...         ...         ...         ...  ...   \n",
       "42550  260.725600  260.725600  260.725600    1.000000    1.000000  ...   \n",
       "42607  260.137900  260.137900  260.137900    1.000000    1.000000  ...   \n",
       "42664  259.552835  259.552835  259.552835    1.000000    1.000000  ...   \n",
       "42721  258.970386  258.970386  258.970386    1.000000    1.000000  ...   \n",
       "42778  258.390536  258.390536  258.390536    1.000000    1.000000  ...   \n",
       "\n",
       "                d33           d31           d15           d24         K11  \\\n",
       "28     1.357014e+02 -4.145634e+01  3.103882e+01  3.103882e+01  398.828512   \n",
       "85     1.357947e+02 -4.147905e+01  3.106557e+01  3.106557e+01  399.181924   \n",
       "142    1.358963e+02 -4.150378e+01  3.109472e+01  3.109472e+01  399.567050   \n",
       "199    1.360066e+02 -4.153063e+01  3.112636e+01  3.112636e+01  399.985168   \n",
       "256    1.361259e+02 -4.155966e+01  3.116060e+01  3.116060e+01  400.437514   \n",
       "...             ...           ...           ...           ...         ...   \n",
       "42550  0.000000e+00  0.000000e+00  0.000000e+00  0.000000e+00  260.725600   \n",
       "42607  0.000000e+00  0.000000e+00  0.000000e+00  0.000000e+00  260.137900   \n",
       "42664  0.000000e+00  0.000000e+00  0.000000e+00  0.000000e+00  259.552835   \n",
       "42721  0.000000e+00  0.000000e+00  0.000000e+00  0.000000e+00  258.970386   \n",
       "42778 -4.145328e-22  1.695816e-22 -5.464296e-23 -5.464296e-23  258.390536   \n",
       "\n",
       "              K22         K33         K12         K13         K23  \n",
       "28     398.828512  398.828512  121.873530  121.873530  121.873530  \n",
       "85     399.181924  399.181924  122.018308  122.018308  122.018308  \n",
       "142    399.567050  399.567050  122.176109  122.176109  122.176109  \n",
       "199    399.985168  399.985168  122.347463  122.347463  122.347463  \n",
       "256    400.437514  400.437514  122.532888  122.532888  122.532888  \n",
       "...           ...         ...         ...         ...         ...  \n",
       "42550  260.725600  260.725600    1.000000    1.000000    1.000000  \n",
       "42607  260.137900  260.137900    1.000000    1.000000    1.000000  \n",
       "42664  259.552835  259.552835    1.000000    1.000000    1.000000  \n",
       "42721  258.970386  258.970386    1.000000    1.000000    1.000000  \n",
       "42778  258.390536  258.390536    1.000000    1.000000    1.000000  \n",
       "\n",
       "[751 rows x 25 columns]"
      ]
     },
     "execution_count": 157,
     "metadata": {},
     "output_type": "execute_result"
    }
   ],
   "source": [
    "fileInput = json.load(open(inputFile,'r'))\n",
    "fileOutput = pd.read_csv(fileName)\n",
    "fileOutput.columns = fileOutput.columns.str.replace(\"_\", \"\")\n",
    "fileOutput.columns = fileOutput.columns.str.replace(\" \", \"\")\n",
    "polarData = fileOutput[['P1','P2','P3']].values\n",
    "k11, k22, k33, k12, k13, k23 = np.zeros(len(polarData)), np.zeros(len(polarData)), np.zeros(len(polarData)), np.zeros(len(polarData)), np.zeros(len(polarData)), np.zeros(len(polarData))\n",
    "variableDictionary = createVariableDict(inputFile)\n",
    "\n",
    "#Get Length of Parameter Sweep\n",
    "parameterList = fileInput['SweepParameters']\n",
    "\n",
    "if len(parameterList)==1:\n",
    "    for i in range(len(polarData)):\n",
    "        variableDictionary = updateVariableDict(variableDictionary, fileOutput.loc[i,parameterList[0]], parameterList[0])\n",
    "        if fileInput['System'].lower() == 'bulk':\n",
    "            diTen = bulkDielectricTensor(*polarData[i,:], *list(variableDictionary.values()))\n",
    "        if str(fileInput['System'].lower()) == str('film'):\n",
    "            diTen = filmDielectricTensor(*polarData[i,:], *list(variableDictionary.values()))\n",
    "        diTen = (1 + np.abs(np.linalg.inv(diTen))/8.85e-12)\n",
    "        k11[i] = diTen[0,0] ; k22[i] = diTen[1,1]; k33[i] = diTen[2,2]\n",
    "        k12[i] = diTen[0,1] ; k23[i] = diTen[1,2]; k13[i] = diTen[0,2]\n",
    "            \n",
    "if len(parameterList)==2:\n",
    "    for i in range(len(polarData)):\n",
    "        variableDictionary = updateVariableDict(variableDictionary, fileOutput.iloc[i,0], parameterList[0])\n",
    "        variableDictionary = updateVariableDict(variableDictionary, fileOutput.iloc[i,1], parameterList[1])\n",
    "#         print(*polarData[i,:], *list(variableDictionary.values()))\n",
    "        if fileInput['System'].lower() == 'bulk':\n",
    "            diTen = bulkDielectricTensor(*polarData[i,:], *list(variableDictionary.values()))\n",
    "        if str(fileInput['System'].lower()) == str('film'):\n",
    "            diTen = filmDielectricTensor(*polarData[i,:], *list(variableDictionary.values()))\n",
    "        diTen = np.abs(np.linalg.inv(diTen))\n",
    "        diTen = (1 + diTen/8.85e-12)\n",
    "        k11[i] = diTen[0,0] ; k22[i] = diTen[1,1]; k33[i] = diTen[2,2]\n",
    "        k12[i] = diTen[0,1] ; k23[i] = diTen[1,2]; k13[i] = diTen[0,2]\n",
    "            \n",
    "if len(parameterList)==3:\n",
    "    for i in range(len(polarData)):\n",
    "        variableDictionary = updateVariableDict(variableDictionary, fileOutput.iloc[i,0], parameterList[0])\n",
    "        variableDictionary = updateVariableDict(variableDictionary, fileOutput.iloc[i,1], parameterList[1])\n",
    "        variableDictionary = updateVariableDict(variableDictionary, fileOutput.iloc[i,2], parameterList[2])\n",
    "        if fileInput['System'].lower() == 'bulk':\n",
    "            diTen = bulkDielectricTensor(*polarData[i,:], *list(variableDictionary.values()))\n",
    "        if str(fileInput['System'].lower()) == str('film'):\n",
    "            diTen = filmDielectricTensor(*polarData[i,:], *list(variableDictionary.values()))\n",
    "        diTen = (1 + np.abs(np.linalg.inv(diTen))/8.85e-12)\n",
    "        k11[i] = diTen[0,0] ; k22[i] = diTen[1,1]; k33[i] = diTen[2,2]\n",
    "        k12[i] = diTen[0,1] ; k23[i] = diTen[1,2]; k13[i] = diTen[0,2]\n",
    "        \n",
    "fileOutput['K11'] = k11\n",
    "fileOutput['K22'] = k22\n",
    "fileOutput['K33'] = k33\n",
    "fileOutput['K12'] = k12\n",
    "fileOutput['K13'] = k13\n",
    "fileOutput['K23'] = k23\n",
    "fileOutput[(fileOutput['HydrostaticStress']==-1e9)]"
   ]
  },
  {
   "cell_type": "code",
   "execution_count": null,
   "metadata": {
    "ExecuteTime": {
     "end_time": "2021-08-19T01:48:42.986834Z",
     "start_time": "2021-08-19T01:48:42.972834Z"
    }
   },
   "outputs": [],
   "source": []
  },
  {
   "cell_type": "markdown",
   "metadata": {},
   "source": [
    "### Piezoelectric Tensor"
   ]
  },
  {
   "cell_type": "code",
   "execution_count": null,
   "metadata": {},
   "outputs": [],
   "source": []
  },
  {
   "cell_type": "code",
   "execution_count": null,
   "metadata": {},
   "outputs": [],
   "source": []
  },
  {
   "cell_type": "markdown",
   "metadata": {},
   "source": [
    "### Caloric Properties"
   ]
  },
  {
   "cell_type": "code",
   "execution_count": null,
   "metadata": {},
   "outputs": [],
   "source": []
  },
  {
   "cell_type": "code",
   "execution_count": null,
   "metadata": {},
   "outputs": [],
   "source": []
  },
  {
   "cell_type": "markdown",
   "metadata": {},
   "source": [
    "### Piezocaloric Properties"
   ]
  },
  {
   "cell_type": "code",
   "execution_count": null,
   "metadata": {},
   "outputs": [],
   "source": []
  },
  {
   "cell_type": "code",
   "execution_count": null,
   "metadata": {},
   "outputs": [],
   "source": []
  }
 ],
 "metadata": {
  "kernelspec": {
   "display_name": "Python 3",
   "language": "python",
   "name": "python3"
  },
  "language_info": {
   "codemirror_mode": {
    "name": "ipython",
    "version": 3
   },
   "file_extension": ".py",
   "mimetype": "text/x-python",
   "name": "python",
   "nbconvert_exporter": "python",
   "pygments_lexer": "ipython3",
   "version": "3.8.6"
  },
  "toc": {
   "base_numbering": 1,
   "nav_menu": {},
   "number_sections": false,
   "sideBar": true,
   "skip_h1_title": false,
   "title_cell": "Table of Contents",
   "title_sidebar": "Contents",
   "toc_cell": false,
   "toc_position": {},
   "toc_section_display": true,
   "toc_window_display": true
  }
 },
 "nbformat": 4,
 "nbformat_minor": 4
}
